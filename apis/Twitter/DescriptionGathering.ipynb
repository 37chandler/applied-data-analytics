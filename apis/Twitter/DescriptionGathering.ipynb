{
 "cells": [
  {
   "cell_type": "markdown",
   "metadata": {},
   "source": [
    "## Gather Follower Descriptions\n",
    "We start with a twitter user name (as well as things like twitter credentials) and pull all the followers of that user. We then pull the descriptions of those users and write them to a file for future mining. You can use more than one user in a group.\n",
    "\n",
    "I wrote some functions for you in the file `twitter_functions.py`. This will need to be in the same folder where you're running this notebook. \n",
    "\n",
    "You may not have installed `tweepy` yet. If you get an error on the next cell, you need to go to the command/console line (like where you type `git` commands) and type something like `pip install tweepy`. There may be dependencies (like `unidecode`) that you need as well. "
   ]
  },
  {
   "cell_type": "code",
   "execution_count": null,
   "metadata": {},
   "outputs": [],
   "source": [
    "from datetime import datetime\n",
    "import json\n",
    "from pprint import pprint\n",
    "\n",
    "from twitter_functions import * # these are the functions I wrote for you."
   ]
  },
  {
   "cell_type": "markdown",
   "metadata": {},
   "source": [
    "The next cell holds your Twitter authorization credentials. Then it calls a function that initializes your connection to Twitter. I've left my keys in there (slightly perturbed so that they won't actually work) so that you see the form these take)."
   ]
  },
  {
   "cell_type": "code",
   "execution_count": null,
   "metadata": {},
   "outputs": [],
   "source": [
    "#from twitter_config import *\n",
    "\n",
    "auth =  { \"consumer_key\": \"xks2XTK4gr2PajPio1RBGWsYU\",\n",
    "          \"consumer_secret\": \"jkjkCjph2vx38uBVbVHLkhzesGVY6ZqEywXd3B0sDeSAWVcDNo\",\n",
    "          \"access_key\": \"33029025-i1Mm907o7BsKnufMIxjVzByKsuDEhOBb0yV3EAa1E\",\n",
    "          \"access_secret\": \"jkjkXqAijIwRQMZmW3b7AgpFXU6Ve0RU30fzsbzpfx9uf\"\n",
    "        }\n",
    "\n",
    "api = initialize_twitter(auth)"
   ]
  },
  {
   "cell_type": "markdown",
   "metadata": {},
   "source": [
    "Now you set the handle (or handles) that represent one group or topic on Twitter. These should be in a list. The output file name (`ofile_name`) is determined based on today's date and the first element in the list. Feel free to modify. "
   ]
  },
  {
   "cell_type": "code",
   "execution_count": null,
   "metadata": {},
   "outputs": [],
   "source": [
    "#starting_user = ['GeneralMills','KraftBrand'] # my first group\n",
    "starting_user = ['michaelpollan'] # my second group\n",
    "\n",
    "ofile_name = (datetime.today().strftime(\"%Y%m%d\") + \"_\" + \n",
    "             starting_user[0] + \"_\" + # Just use the first starting_user for the name if there are multiple\n",
    "             \"followers.txt\")"
   ]
  },
  {
   "cell_type": "code",
   "execution_count": null,
   "metadata": {},
   "outputs": [],
   "source": [
    "# We'll now go lookup the full information on your starting user(s). \n",
    "starting_user_id = []\n",
    "\n",
    "# All records will be a dictionary with the twitter ID as the key and \n",
    "# a UserRecord as the value. This is a named tuple I created. \n",
    "all_records = lookup_users_from_handles(api, starting_user)\n",
    "\n",
    "# We need the IDs that we're getting followers from in a list. \n",
    "for id in all_records : #access the keys, which are ids.\n",
    "    starting_user_id.append(id)"
   ]
  },
  {
   "cell_type": "code",
   "execution_count": null,
   "metadata": {},
   "outputs": [],
   "source": [
    "all_records"
   ]
  },
  {
   "cell_type": "code",
   "execution_count": null,
   "metadata": {},
   "outputs": [],
   "source": [
    "# How long is it going to take us to pull these followers?\n",
    "total_followers = 0\n",
    "for id, rec in all_records.items() :\n",
    "    total_followers += rec.followers_count\n",
    "    \n",
    "print(\"Ooh, {fol:,d} followers. A complete run with no limits run is \".format(fol=total_followers) + \n",
    "      \"going to take {min:.2f} minutes ({hour:.2f} hours)\".format(min=total_followers/5000,\n",
    "                                                                  hour=total_followers/(60*5000)))"
   ]
  },
  {
   "cell_type": "code",
   "execution_count": null,
   "metadata": {},
   "outputs": [],
   "source": [
    "# Now let's pull all the followers of our starting_user\n",
    "# the function I wrote allows you to cap the number of followers you pull\n",
    "# and uses the ID to generate the query.\n",
    "# \n",
    "# Note that this pull is subject to rate limiting. You can make 15 calls per\n",
    "# 15 minute window and each can return 5000 users. \n",
    "followers_of_starting = gather_followers(api,\n",
    "                                         starting_user_id,\n",
    "                                         follower_limit=5000) # Modify this limit if you need to. \n",
    "                                                              # Set it to \"None\" to get all   \n",
    "\n",
    "# followers_of_starting will be a dictionary with the key being the id(s) in starting_user_id\n",
    "# and the value is a list of all the followers."
   ]
  },
  {
   "cell_type": "code",
   "execution_count": null,
   "metadata": {},
   "outputs": [],
   "source": [
    "# And now we'll \"hydrate\" these user records.\n",
    "for start_id, list_of_followers in followers_of_starting.items() :\n",
    "    \n",
    "    # Using a set here instead of a list so that we pull each ID only once.\n",
    "    ids_to_hydrate = {id for id in list_of_followers if id not in all_records} \n",
    "    \n",
    "    these_records = lookup_users_from_ids(api,ids=ids_to_hydrate)\n",
    "\n",
    "    for id, rec in these_records.items() :\n",
    "        all_records[id] = rec\n"
   ]
  },
  {
   "cell_type": "code",
   "execution_count": null,
   "metadata": {},
   "outputs": [],
   "source": [
    "# Now let's write out all the records. I wrote some functions to help.\n",
    "with open(ofile_name,'w') as ofile :\n",
    "    write_user_rec_headers(ofile)\n",
    "    for id, rec in all_records.items() :\n",
    "        write_user_rec(ofile, rec)"
   ]
  }
 ],
 "metadata": {
  "kernelspec": {
   "display_name": "Python 3",
   "language": "python",
   "name": "python3"
  },
  "language_info": {
   "codemirror_mode": {
    "name": "ipython",
    "version": 3
   },
   "file_extension": ".py",
   "mimetype": "text/x-python",
   "name": "python",
   "nbconvert_exporter": "python",
   "pygments_lexer": "ipython3",
   "version": "3.7.3"
  }
 },
 "nbformat": 4,
 "nbformat_minor": 1
}
