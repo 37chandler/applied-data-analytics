{
 "cells": [
  {
   "cell_type": "markdown",
   "metadata": {},
   "source": [
    "In this notebook we'll work through some of the issues we identified in class that we'll need to solve to do the Wedge project. \n",
    "<!--\n",
    "Here's a reminder.\n",
    "![list-from-board](list_of_tasks.jpg)\n",
    "Working from this list, we see the key tasks as follows:\n",
    "--> \n",
    "\n",
    "Here's a list of tasks we need to accomplish: \n",
    "\n",
    "1. We need to get our file or files out of the zip file.\n",
    "1. We need to be able to read the file into Python in the file. \n",
    "1. We need to do a few tests: looking for a header row, checking for delimiters, checking for quotes.\n",
    "1. We need to write out the data in a \"clean\" format. \n",
    "\n",
    "I've built some toy examples for us to play with in class. First, let's get a list of the files. The `os` package has a handy function `listdir` that will help. "
   ]
  },
  {
   "cell_type": "code",
   "execution_count": null,
   "metadata": {},
   "outputs": [],
   "source": [
    "import os"
   ]
  },
  {
   "cell_type": "code",
   "execution_count": null,
   "metadata": {},
   "outputs": [],
   "source": [
    "os.listdir(\"data/\")"
   ]
  },
  {
   "cell_type": "markdown",
   "metadata": {},
   "source": [
    "Let's save these files to a variable."
   ]
  },
  {
   "cell_type": "code",
   "execution_count": null,
   "metadata": {},
   "outputs": [],
   "source": [
    "zip_files = os.listdir(\"data/\")"
   ]
  },
  {
   "cell_type": "markdown",
   "metadata": {},
   "source": [
    "## Working with Zip Files\n",
    "\n",
    "Zip files are complicated, but useful. Here's a nice description I found on [GeeksForGeeks](https://www.geeksforgeeks.org/working-zip-files-python/):\n",
    "\n",
    "> ZIP is an archive file format that supports lossless data compression. By lossless compression, we mean that the compression algorithm allows the original data to be perfectly reconstructed from the compressed data. So, a ZIP file is a single file containing one or more compressed files, offering an ideal way to make large files smaller and keep related files together.\n",
    "\n",
    "So, one tricky thing is that a zip file is a _file_ but it can also contain lots of other sub-files, so it acts like a _folder_ as well.\n",
    "\n",
    "Q: Why don't we just unzip all the Wedge files and skip the unzipping? \n",
    "\n",
    "A: Because these files are *big*. We might run out of space unzipping them all. \n",
    "\n",
    "There's a useful package for working with zip files called ... `zipfile`. Might be worth bookmarking the manual [page](https://docs.python.org/3/library/zipfile.html) for it. We won't need the whole package, so we'll just import the _Class_ `ZipFile`."
   ]
  },
  {
   "cell_type": "code",
   "execution_count": null,
   "metadata": {},
   "outputs": [],
   "source": [
    "from zipfile import ZipFile # usually you'd do all these imports at the beginning"
   ]
  },
  {
   "cell_type": "code",
   "execution_count": null,
   "metadata": {},
   "outputs": [],
   "source": [
    "# Let's extract one file from the first zip in our list\n",
    "\n",
    "# opening the zip file in READ mode \n",
    "with ZipFile(\"data/\" + zip_files[0], 'r') as zf : \n",
    "    # printing what's in the zip file.  \n",
    "    zf.printdir() \n",
    "  \n",
    "    # extracting all the files \n",
    "    print('Extracting all the files now...') \n",
    "    zf.extractall() \n",
    "    print('Done!') "
   ]
  },
  {
   "cell_type": "markdown",
   "metadata": {},
   "source": [
    "Look in the folder `python-file-exploration/` and you'll see that the file was extracted into this directory. (Q: Why this one?) Now, we don't want to do this in practice, so we'll try to just read the files in the zip file. Let's delete the file that we just extracted just to be clean. The `os` package has a helpful function (`remove`) for us. But we need to get the name of the file first."
   ]
  },
  {
   "cell_type": "code",
   "execution_count": null,
   "metadata": {},
   "outputs": [],
   "source": [
    "with ZipFile(\"data/\" + zip_files[0], 'r') as zf :\n",
    "    print(zf.namelist())"
   ]
  },
  {
   "cell_type": "markdown",
   "metadata": {},
   "source": [
    "Q: what is `namelist` returning?\n",
    "\n",
    "A: A list of strings, each string containing the name of a file inside the zip. "
   ]
  },
  {
   "cell_type": "code",
   "execution_count": null,
   "metadata": {},
   "outputs": [],
   "source": [
    "# Now let's delete that spurious file we created\n",
    "with ZipFile(\"data/\" + zip_files[0], 'r') as zf :\n",
    "    this_file_list = zf.namelist()\n",
    "    os.remove(this_file_list[0])"
   ]
  },
  {
   "cell_type": "markdown",
   "metadata": {},
   "source": [
    "Now go check the `python-file-exploration` directory and you'll see it's gone.\n",
    "\n",
    "In this next cell, write a loop over all the files in `zip_files` printing the contents to the screen."
   ]
  },
  {
   "cell_type": "code",
   "execution_count": null,
   "metadata": {},
   "outputs": [],
   "source": [
    "for zipf in zip_files :\n",
    "    with ZipFile(\"data/\" + zipf,'r') as zf :  \n",
    "        print(zf.namelist())"
   ]
  },
  {
   "cell_type": "markdown",
   "metadata": {},
   "source": [
    "Q: What do you notice about the contents of the zips? \n",
    "\n",
    "A: One of them has two files! I don't think this is true for the Wedge, but it's good to practice. \n",
    "\n",
    "Now, we're getting close. At this point, we'd like to do something like the following:\n",
    "\n",
    "1. Open a zip file\n",
    "1. Get a list of the files in there\n",
    "1. Read those files as we've read plain text files before."
   ]
  },
  {
   "cell_type": "code",
   "execution_count": null,
   "metadata": {},
   "outputs": [],
   "source": [
    "this_zf = zip_files[0]\n",
    "\n",
    "with ZipFile(\"data/\" + this_zf,'r') as zf :\n",
    "    zipped_files = zf.namelist()\n",
    "    \n",
    "    for file_name in zipped_files :\n",
    "        with zf.open(file_name,'r') as input_file :\n",
    "            for idx, line in enumerate(input_file) :\n",
    "                print(line)\n",
    "                if idx > 5 :\n",
    "                    break\n"
   ]
  },
  {
   "cell_type": "markdown",
   "metadata": {},
   "source": [
    "Let's spend a little time reading what's going on here. \n",
    "\n",
    "Q: What's up with the `b'some string stuff'`? \n",
    "\n",
    "A: Text files inside zips are stored as _bytes_, not strings. The explanation of this gets [complicated](https://stackoverflow.com/questions/6224052/what-is-the-difference-between-a-string-and-a-byte-string) and we'll talk more about it later in the semester. Python 3 will allow us to use a new function `io.TextIOWrapper` to get the job done."
   ]
  },
  {
   "cell_type": "code",
   "execution_count": null,
   "metadata": {},
   "outputs": [],
   "source": [
    "import io\n",
    "\n",
    "this_zf = zip_files[0]\n",
    "\n",
    "with ZipFile(\"data/\" + this_zf,'r') as zf :\n",
    "    zipped_files = zf.namelist()\n",
    "    \n",
    "    for file_name in zipped_files :\n",
    "        input_file = zf.open(file_name,'r')\n",
    "        input_file = io.TextIOWrapper(input_file,encoding=\"utf-8\")\n",
    "        \n",
    "        for idx, line in enumerate(input_file) :\n",
    "            print(line)\n",
    "            if idx > 3 :\n",
    "                break\n",
    "\n",
    "        input_file.close() # tidy up"
   ]
  },
  {
   "cell_type": "markdown",
   "metadata": {},
   "source": [
    "Q: What do you notice about this output? \n",
    "\n",
    "A: Header rows. Quotes around strings. Tab delimits are being printed as tabs.\n",
    "\n",
    "Okay, now we're close to finishing our work with zip files. In the cell below, write code that will \n",
    "\n",
    "1. Iterate over every zip file.\n",
    "1. Print out the name of the containing file. \n",
    "1. Print out the first 3 lines of each file. "
   ]
  },
  {
   "cell_type": "code",
   "execution_count": null,
   "metadata": {},
   "outputs": [],
   "source": [
    "for this_zf in zip_files :\n",
    "    with ZipFile(\"data/\" + this_zf,'r') as zf :\n",
    "        zipped_files = zf.namelist()\n",
    "\n",
    "        for file_name in zipped_files :\n",
    "            print(file_name + \"\\n\")\n",
    "            input_file = zf.open(file_name,'r')\n",
    "            input_file = io.TextIOWrapper(input_file,encoding=\"utf-8\")\n",
    "\n",
    "            for idx, line in enumerate(input_file) :\n",
    "                print(line)\n",
    "                if idx > 3 :\n",
    "                    break\n",
    "\n",
    "            input_file.close() # tidy up"
   ]
  },
  {
   "cell_type": "markdown",
   "metadata": {},
   "source": [
    "Notice all the weirdness in there!"
   ]
  },
  {
   "cell_type": "markdown",
   "metadata": {},
   "source": [
    "## Checking for delimiters\n",
    "\n",
    "Now that we can get inside these files, let's test for delimiters. First do some Googling and see if you can come up with some good approaches. "
   ]
  },
  {
   "cell_type": "markdown",
   "metadata": {},
   "source": [
    "---\n",
    "\n",
    "Some dead space to make it easier to not peek ahead. Practice the searching!\n",
    "\n",
    "---\n",
    "\n",
    "For real!\n",
    "\n",
    "---\n",
    "\n",
    "Okay, let's get on with it."
   ]
  },
  {
   "cell_type": "markdown",
   "metadata": {},
   "source": [
    "The `csv` module has a super-useful function called `sniffer`. It'll just let you test for delimiters. Let's see it in action. (Also, we're going to store the delimiters in a dictionary keyed to file name so that we can use them later.)"
   ]
  },
  {
   "cell_type": "code",
   "execution_count": null,
   "metadata": {},
   "outputs": [],
   "source": [
    "import csv\n",
    "\n",
    "delimiters = dict() \n",
    "\n",
    "# Start by reading in all the files again.\n",
    "\n",
    "for this_zf in zip_files :\n",
    "    with ZipFile(\"data/\" + this_zf,'r') as zf :\n",
    "        zipped_files = zf.namelist()\n",
    "\n",
    "        for file_name in zipped_files :\n",
    "            input_file = zf.open(file_name,'r')\n",
    "            input_file = io.TextIOWrapper(input_file,encoding=\"utf-8\")\n",
    "            \n",
    "            dialect = csv.Sniffer().sniff(sample=input_file.readline(),\n",
    "                                      delimiters=[\",\",\";\",\"\\t\"])\n",
    "            \n",
    "            delimiters[file_name] = dialect.delimiter\n",
    "            \n",
    "            #input_file.seek(0)\n",
    "            \n",
    "            print(\" \".join([\"It looks like\",\n",
    "                           file_name,\n",
    "                           \"has delimiter\",\n",
    "                           dialect.delimiter,\n",
    "                           \".\"]))\n",
    "\n",
    "            input_file.close() # tidy up"
   ]
  },
  {
   "cell_type": "code",
   "execution_count": null,
   "metadata": {},
   "outputs": [],
   "source": [
    "for this_zf in zip_files :\n",
    "    with ZipFile(\"data/\" + this_zf,'r') as zf :\n",
    "        zipped_files = zf.namelist()\n",
    "\n",
    "        for file_name in zipped_files :\n",
    "            input_file = zf.open(file_name,'r')\n",
    "            for line in input_file.readlines() :\n",
    "                line = line.split(dialect.delimiter).strip()\n",
    "                \n"
   ]
  },
  {
   "cell_type": "markdown",
   "metadata": {},
   "source": [
    "Let's read through this and try to interpret what's going on. "
   ]
  },
  {
   "cell_type": "markdown",
   "metadata": {},
   "source": [
    "## Checking for Headers\n",
    "\n",
    "Now that we can find the delimiters, let's check for the presence of headers. First, let's \n",
    "just split the first line based on the delimiter and print that out. "
   ]
  },
  {
   "cell_type": "code",
   "execution_count": null,
   "metadata": {},
   "outputs": [],
   "source": [
    "for this_zf in zip_files :\n",
    "    with ZipFile(\"data/\" + this_zf,'r') as zf :\n",
    "        zipped_files = zf.namelist()\n",
    "\n",
    "        for file_name in zipped_files :\n",
    "            input_file = zf.open(file_name,'r')\n",
    "            input_file = io.TextIOWrapper(input_file,encoding=\"utf-8\")\n",
    "            \n",
    "            this_delimiter = delimiters[file_name]\n",
    "            \n",
    "            for line in input_file :\n",
    "                print(line.strip().split(this_delimiter))\n",
    "                break\n",
    "\n",
    "            input_file.close() # tidy up"
   ]
  },
  {
   "cell_type": "markdown",
   "metadata": {},
   "source": [
    "Now rewrite the above cell so that you test for the presence of a header row and write out the True or False value."
   ]
  },
  {
   "cell_type": "code",
   "execution_count": null,
   "metadata": {},
   "outputs": [],
   "source": [
    "for this_zf in zip_files :\n",
    "    with ZipFile(\"data/\" + this_zf,'r') as zf :\n",
    "        zipped_files = zf.namelist()\n",
    "\n",
    "        for file_name in zipped_files :\n",
    "            input_file = zf.open(file_name,'r')\n",
    "            input_file = io.TextIOWrapper(input_file,encoding=\"utf-8\")\n",
    "            \n",
    "            this_delimiter = delimiters[file_name]\n",
    "            \n",
    "            for line in input_file :\n",
    "                print(\"Header row? \" + str(\"Sepal\" in line))\n",
    "                print(line.strip().split(this_delimiter))\n",
    "                break\n",
    "\n",
    "            input_file.close() # tidy up"
   ]
  }
 ],
 "metadata": {
  "kernelspec": {
   "display_name": "Python 3",
   "language": "python",
   "name": "python3"
  },
  "language_info": {
   "codemirror_mode": {
    "name": "ipython",
    "version": 3
   },
   "file_extension": ".py",
   "mimetype": "text/x-python",
   "name": "python",
   "nbconvert_exporter": "python",
   "pygments_lexer": "ipython3",
   "version": "3.6.9"
  }
 },
 "nbformat": 4,
 "nbformat_minor": 2
}
