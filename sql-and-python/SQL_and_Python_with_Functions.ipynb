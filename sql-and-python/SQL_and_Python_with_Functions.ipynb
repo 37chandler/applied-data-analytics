{
 "cells": [
  {
   "cell_type": "markdown",
   "metadata": {},
   "source": [
    "## Accessing SQL via Python\n",
    "In this continuation of the previous notebook, we show how to wrap the DB functions in a library to create a more scalable way to use our code. \n",
    "\n",
    "We start by reading in the file as before. Note the import of our `wedge_helper` library, which is stored in a file with that same name and the extension `py`. Open that file up (maybe in Spyder?) so that you can see what's inside."
   ]
  },
  {
   "cell_type": "code",
   "execution_count": 1,
   "metadata": {},
   "outputs": [
    {
     "name": "stdout",
     "output_type": "stream",
     "text": [
      "['datetime', 'register_no', 'emp_no', 'trans_no', 'upc', 'description', 'trans_type', 'trans_subtype', 'trans_status', 'department', 'quantity', 'Scale', 'cost', 'unitPrice', 'total', 'regPrice', 'altPrice', 'tax', 'taxexempt', 'foodstamp', 'wicable', 'discount', 'memDiscount', 'discountable', 'discounttype', 'voided', 'percentDiscount', 'ItemQtty', 'volDiscType', 'volume', 'VolSpecial', 'mixMatch', 'matched', 'memType', 'staff', 'numflag', 'itemstatus', 'tenderstatus', 'charflag', 'varflag', 'batchHeaderID', 'local', 'organic', 'display', 'receipt', 'card_no', 'store', 'branch', 'match_id', 'trans_id']\n",
      "['2010-01-01T14:11:12Z', '16', '54', '119', '0000000040505', 'Oatscreme Shake $5.49', 'I', 'NA', 'NA', '14', '1', '0', '0.8', '5.49', '5.49', '5.49', '0', '1', '0', '1', '0', '0', '0', '1', '0', '0', '0.00000000', '1', '0', '0', '0', '0', '0', 'NA', '0', '5', '0', '0', '0', '0', 'NULL', '0', 'NULL', 'NA', '0', '19134', '1', '0', '0', '1']\n",
      "['2010-01-01T14:11:28Z', '16', '54', '119', '0344', 'Credit Card', 'T', 'CC', '0', '0', '0', '0', '0', '0', '-5.92', '0', '0', '0', '0', '0', '0', '0', '0', '0', '0', '0', 'NULL', '0', '0', '0', '0', '0', '0', 'NA', '0', '0', '0', '0', 'I', '0', 'NULL', '0', 'NULL', 'NA', '0', '19134', '1', '0', '0', '3']\n",
      "['2010-01-01T14:11:34Z', '16', '54', '119', '0', 'Change', 'T', 'CA', '0', '0', '0', '0', '0', '0', '0', '0', '0', '0', '0', '0', '0', '0', '0', '0', '0', '8', 'NULL', '0', '0', '0', '0', '0', '0', 'NA', '0', '0', '0', '0', '0', '0', 'NULL', '0', 'NULL', 'NA', '0', '19134', '1', '0', '0', '4']\n",
      "['2010-01-01T14:11:34Z', '16', '54', '119', 'TAX', 'Tax', 'A', '0', '0', '0', '0', '0', '0', '0', '0.43', '0', '0', '0', '0', '0', '0', '0', '0', '0', '0', '0', 'NULL', '0', '0', '0', '0', '0', '0', 'NA', '0', '0', '0', '0', '0', '0', 'NULL', '0', 'NULL', 'NA', '0', '19134', '1', '0', '0', '6']\n"
     ]
    }
   ],
   "source": [
    "import sqlite3\n",
    "from wedge_helper import *\n",
    "\n",
    "input_file = \"OwnerTransactions_30.txt\"\n",
    "\n",
    "# Let's just open the file and read the first few lines to the screen.\n",
    "with open(input_file,'r',encoding=\"Latin-1\") as ifile :\n",
    "    for idx, line in enumerate(ifile.readlines()) :\n",
    "        print(line.strip().split(\"\\t\"))\n",
    "        if idx > 3 :\n",
    "            break"
   ]
  },
  {
   "cell_type": "markdown",
   "metadata": {},
   "source": [
    "Let's do our standard open the DB in memory and create a cursor."
   ]
  },
  {
   "cell_type": "code",
   "execution_count": 2,
   "metadata": {},
   "outputs": [],
   "source": [
    "db = sqlite3.connect(\"change_me.db\") #':memory:') # Make this a directory + file if you want to store the results.\n",
    "cur = db.cursor()\n",
    "\n",
    "init_db(cur) # take a look at the .py file to see what happened here."
   ]
  },
  {
   "cell_type": "code",
   "execution_count": 3,
   "metadata": {},
   "outputs": [],
   "source": [
    "with open(input_file,'r') as ifile :\n",
    "    populate_db(db,ifile,delimiter=\"\\t\",limit=None)"
   ]
  },
  {
   "cell_type": "markdown",
   "metadata": {},
   "source": [
    "And now let's run a query and print out the results in a semi-pretty fashion. Check out [this page](https://docs.python.org/3.2/library/string.html#format-specification-mini-language) to learn more about the formatting tricks."
   ]
  },
  {
   "cell_type": "code",
   "execution_count": 4,
   "metadata": {},
   "outputs": [
    {
     "name": "stdout",
     "output_type": "stream",
     "text": [
      "On 2011-04-06, card_no = 10378 spent 30.67.\n",
      "On 2011-04-09, card_no = 10378 spent 31.27.\n",
      "On 2011-05-03, card_no = 10378 spent 179.53.\n",
      "On 2011-06-06, card_no = 10378 spent 10.13.\n",
      "On 2011-08-09, card_no = 10378 spent 47.59.\n",
      "On 2011-09-05, card_no = 10378 spent 89.47.\n",
      "On 2011-09-06, card_no = 10378 spent 34.64.\n",
      "On 2011-09-12, card_no = 10378 spent 39.06.\n",
      "On 2011-09-29, card_no = 10378 spent 40.42.\n",
      "On 2011-09-30, card_no = 10378 spent 15.95.\n",
      "On 2011-10-03, card_no = 10378 spent 123.06.\n",
      "On 2011-10-05, card_no = 10378 spent 24.29.\n",
      "On 2011-10-10, card_no = 10378 spent 28.04.\n",
      "On 2011-10-28, card_no = 10378 spent 10.18.\n",
      "On 2011-10-29, card_no = 10378 spent 2.69.\n",
      "On 2011-11-06, card_no = 10378 spent 8.41.\n",
      "On 2011-11-16, card_no = 10378 spent 35.74.\n",
      "On 2011-11-22, card_no = 10378 spent 37.83.\n",
      "On 2011-12-01, card_no = 10378 spent 35.07.\n",
      "On 2011-12-07, card_no = 10378 spent 115.38.\n",
      "On 2011-12-09, card_no = 10378 spent 22.92.\n",
      "On 2011-12-11, card_no = 10378 spent -33.63.\n"
     ]
    }
   ],
   "source": [
    "result = cur.execute('''SELECT card_no,\n",
    "                               date(datetime) as date,\n",
    "                               sum(total) AS spend\n",
    "                        FROM transactions\n",
    "                        WHERE trans_type = \"I\"\n",
    "                        GROUP BY card_no, date\n",
    "                        ''')\n",
    "\n",
    "for idx,row in enumerate(result) :\n",
    "    print(\"On {1}, card_no = {0} spent {2:,.2f}.\".format(row[0],row[1],row[2]))\n",
    "    if idx > 20 :\n",
    "        break"
   ]
  },
  {
   "cell_type": "markdown",
   "metadata": {},
   "source": [
    "Now let's return to our big query that correctly captures things like sales, transactions, and items. "
   ]
  },
  {
   "cell_type": "code",
   "execution_count": 8,
   "metadata": {},
   "outputs": [],
   "source": [
    "result = cur.execute('''SELECT card_no,\n",
    "                                   department,\n",
    "                                   substr(date(datetime),1,4) AS year,\n",
    "                                   substr(date(datetime),6,2) AS month,\n",
    "                                   sum(total) AS spend,\n",
    "                                   count(distinct(date(datetime) || register_no ||\n",
    "                                           emp_no || trans_no)) as Transactions,\n",
    "                                   sum(CASE WHEN (trans_status = 'V' or trans_status = 'R') THEN -1 ELSE 1 END) as Items\n",
    "                                   FROM transactions\n",
    "                                   WHERE department != 0 and\n",
    "                                        department != 15 and\n",
    "                                        trans_status != 'M' and\n",
    "                                        trans_status != 'C' and\n",
    "                                        trans_status != 'J' and\n",
    "                                       (trans_status = '' or \n",
    "                                        trans_status = ' ' or \n",
    "                                        trans_status = 'V' or \n",
    "                                        trans_status = 'R') and card_no = 18736\n",
    "                          GROUP BY card_no, department, year, month\n",
    "                          ORDER BY year, month''')"
   ]
  },
  {
   "cell_type": "code",
   "execution_count": 9,
   "metadata": {},
   "outputs": [
    {
     "name": "stdout",
     "output_type": "stream",
     "text": [
      "(18736, 4, '2011', '04', -3.29, 1, -1)\n",
      "(18736, 4, '2011', '05', -3.29, 1, -1)\n",
      "(18736, 2, '2011', '06', -2.01, 2, -2)\n",
      "(18736, 5, '2011', '06', -6.3, 1, -1)\n",
      "(18736, 4, '2011', '07', -6.58, 2, -2)\n",
      "(18736, 17, '2011', '07', -2.69, 1, -1)\n",
      "(18736, 4, '2011', '08', -3.29, 1, -1)\n",
      "(18736, 4, '2011', '09', -4.99, 1, -1)\n",
      "(18736, 2, '2011', '10', -7.15, 1, -1)\n",
      "(18736, 4, '2011', '10', -3.79, 1, -1)\n",
      "(18736, 2, '2011', '11', -5.0, 2, -2)\n",
      "(18736, 4, '2011', '12', -3.99, 1, -1)\n"
     ]
    }
   ],
   "source": [
    "# Here's a way to print row-by-row results. Using `enumerate` is a good trick to give yourself a counter.\n",
    "for idx,row in enumerate(result) :\n",
    "    print(row)\n",
    "    if idx > 10 :\n",
    "        break"
   ]
  },
  {
   "cell_type": "markdown",
   "metadata": {},
   "source": [
    "Run the cell below as a best practice, but the DB will close if you quit the notebook. If it's an in-memory DB then it's also gone!"
   ]
  },
  {
   "cell_type": "code",
   "execution_count": 10,
   "metadata": {},
   "outputs": [],
   "source": [
    "db.close()"
   ]
  }
 ],
 "metadata": {
  "kernelspec": {
   "display_name": "Python 3",
   "language": "python",
   "name": "python3"
  },
  "language_info": {
   "codemirror_mode": {
    "name": "ipython",
    "version": 3
   },
   "file_extension": ".py",
   "mimetype": "text/x-python",
   "name": "python",
   "nbconvert_exporter": "python",
   "pygments_lexer": "ipython3",
   "version": "3.6.9"
  }
 },
 "nbformat": 4,
 "nbformat_minor": 1
}
