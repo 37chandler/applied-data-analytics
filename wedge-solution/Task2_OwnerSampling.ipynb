{
 "cells": [
  {
   "cell_type": "markdown",
   "metadata": {},
   "source": [
    "This code just glues together a bunch of things we've discussed in class. The one trick is taking the owner sample. "
   ]
  },
  {
   "cell_type": "markdown",
   "metadata": {},
   "source": [
    "## 1. Connect to GBQ"
   ]
  },
  {
   "cell_type": "code",
   "execution_count": 1,
   "metadata": {},
   "outputs": [],
   "source": [
    "# Do our imports for the code\n",
    "from google.cloud import bigquery\n",
    "from google.oauth2 import service_account\n",
    "import random"
   ]
  },
  {
   "cell_type": "code",
   "execution_count": 2,
   "metadata": {},
   "outputs": [],
   "source": [
    "# These first two values will be different on your machine. \n",
    "service_path = \"C:\\\\users\\\\jchan\\\\dropbox\\\\teaching\\\\\"\n",
    "service_file = 'UMT-MSBA-7b4265df0ca4.json' # this is your authentication information  \n",
    "gbq_proj_id = 'umt-msba'  # change this to your project_id\n",
    "gbq_dataset_id = 'wedge_transactions' # and change this to your data set ID\n",
    "\n",
    "credentials = service_account.Credentials.from_service_account_file(service_path + service_file)\n",
    "client = bigquery.Client(credentials = credentials, project=gbq_proj_id)"
   ]
  },
  {
   "cell_type": "markdown",
   "metadata": {},
   "source": [
    "## 2. List of Owners"
   ]
  },
  {
   "cell_type": "code",
   "execution_count": 3,
   "metadata": {},
   "outputs": [],
   "source": [
    "query = (\n",
    "    \"SELECT \"\n",
    "    \"DISTINCT(card_no) \"\n",
    "    \"FROM \"\n",
    "    \"`umt-msba.wedge_transactions.transArchive_*` \"\n",
    "    \"WHERE card_no != 3.0\"\n",
    ")"
   ]
  },
  {
   "cell_type": "code",
   "execution_count": 4,
   "metadata": {},
   "outputs": [],
   "source": [
    "# And we execute queries with `client.query`\n",
    "query_job = client.query(\n",
    "    query,\n",
    "    location=\"US\",\n",
    ")"
   ]
  },
  {
   "cell_type": "code",
   "execution_count": 5,
   "metadata": {},
   "outputs": [],
   "source": [
    "all_owners = []\n",
    "\n",
    "for row in query_job :\n",
    "    all_owners.append(row[0])\n"
   ]
  },
  {
   "cell_type": "code",
   "execution_count": 6,
   "metadata": {},
   "outputs": [
    {
     "data": {
      "text/plain": [
       "23683"
      ]
     },
     "execution_count": 6,
     "metadata": {},
     "output_type": "execute_result"
    }
   ],
   "source": [
    "len(all_owners)"
   ]
  },
  {
   "cell_type": "markdown",
   "metadata": {},
   "source": [
    "## 3. Sample"
   ]
  },
  {
   "cell_type": "code",
   "execution_count": 7,
   "metadata": {},
   "outputs": [],
   "source": [
    "owner_sample = random.sample(all_owners,300)"
   ]
  },
  {
   "cell_type": "markdown",
   "metadata": {},
   "source": [
    "## 4. Extract records"
   ]
  },
  {
   "cell_type": "code",
   "execution_count": 8,
   "metadata": {},
   "outputs": [],
   "source": [
    "query = (\n",
    "    \"SELECT \"\n",
    "    \"* \"\n",
    "    \"FROM \"\n",
    "    \"`umt-msba.wedge_transactions.transArchive_*` \"\n",
    "    \"WHERE \"\n",
    "    \"card_no IN(\"\n",
    ")\n",
    "\n",
    "query = query + \",\".join([str(num) for num in owner_sample]) + \")\""
   ]
  },
  {
   "cell_type": "code",
   "execution_count": 9,
   "metadata": {},
   "outputs": [],
   "source": [
    "# And we execute queries with `client.query`\n",
    "query_job = client.query(\n",
    "    query,\n",
    "    location=\"US\",\n",
    ")"
   ]
  },
  {
   "cell_type": "code",
   "execution_count": 10,
   "metadata": {},
   "outputs": [
    {
     "data": {
      "text/plain": [
       "<google.cloud.bigquery.table.RowIterator at 0x2a62ac88198>"
      ]
     },
     "execution_count": 10,
     "metadata": {},
     "output_type": "execute_result"
    }
   ],
   "source": [
    "query_job.result()"
   ]
  },
  {
   "cell_type": "markdown",
   "metadata": {},
   "source": [
    "## 5. Write to Text"
   ]
  },
  {
   "cell_type": "code",
   "execution_count": 11,
   "metadata": {},
   "outputs": [],
   "source": [
    "headers = \"\"\"datetime\tregister_no\temp_no\ttrans_no\tupc\tdescription\t\n",
    "             trans_type\ttrans_subtype\ttrans_status\tdepartment\t\n",
    "             quantity\tScale\tcost\tunitPrice\ttotal\t\n",
    "             regPrice\taltPrice\ttax\ttaxexempt\tfoodstamp\t\n",
    "             wicable\tdiscount\tmemDiscount\tdiscountable\t\n",
    "             discounttype\tvoided\tpercentDiscount\tItemQtty\t\n",
    "             volDiscType\tvolume\tVolSpecial\tmixMatch\t\n",
    "             matched\tmemType\tstaff\tnumflag\titemstatus\t\n",
    "             tenderstatus\tcharflag\tvarflag\tbatchHeaderID\t\n",
    "             local\torganic\tdisplay\treceipt\tcard_no\tstore\t\n",
    "             branch\tmatch_id\ttrans_id\"\"\".split()"
   ]
  },
  {
   "cell_type": "code",
   "execution_count": 12,
   "metadata": {},
   "outputs": [],
   "source": [
    "with open(\"owner_sample.txt\",'w') as ofile :\n",
    "    ofile.write(\"\\t\".join(headers) + \"\\n\")\n",
    "    \n",
    "    for idx, row in enumerate(query_job) :\n",
    "        ofile.write(\"\\t\".join([str(element) for element in row]) + \"\\n\")\n",
    "    \n",
    "#        if idx == 100 :\n",
    "#            break\n"
   ]
  }
 ],
 "metadata": {
  "kernelspec": {
   "display_name": "Python 3",
   "language": "python",
   "name": "python3"
  },
  "language_info": {
   "codemirror_mode": {
    "name": "ipython",
    "version": 3
   },
   "file_extension": ".py",
   "mimetype": "text/x-python",
   "name": "python",
   "nbconvert_exporter": "python",
   "pygments_lexer": "ipython3",
   "version": "3.7.3"
  }
 },
 "nbformat": 4,
 "nbformat_minor": 2
}
