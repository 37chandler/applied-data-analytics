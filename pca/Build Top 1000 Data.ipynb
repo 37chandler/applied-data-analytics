{
 "cells": [
  {
   "cell_type": "markdown",
   "metadata": {},
   "source": [
    "This notebook takes a sample of owners and builds their sales by product for the top 1000 products."
   ]
  },
  {
   "cell_type": "code",
   "execution_count": null,
   "metadata": {},
   "outputs": [],
   "source": [
    "import random\n",
    "import os\n",
    "from collections import defaultdict\n",
    "from google.cloud import bigquery\n",
    "from google.oauth2 import service_account"
   ]
  },
  {
   "cell_type": "markdown",
   "metadata": {},
   "source": [
    "Do our GBQ set-up stuff."
   ]
  },
  {
   "cell_type": "code",
   "execution_count": null,
   "metadata": {},
   "outputs": [],
   "source": [
    "# These first two values will be different on your machine. \n",
    "service_path = \"C:\\\\users\\\\jchan\\\\dropbox\\\\teaching\\\\\"\n",
    "service_file = 'UMT-MSBA-7b4265df0ca4.json' # this is your authentication information  \n",
    "gbq_proj_id = 'umt-msba'  # change this to your project_id\n",
    "gbq_dataset_id = 'wedge_transactions' # and change this to your data set ID\n",
    "\n",
    "credentials = service_account.Credentials.from_service_account_file(service_path + service_file)\n",
    "client = bigquery.Client(credentials = credentials, project=gbq_proj_id)"
   ]
  },
  {
   "cell_type": "code",
   "execution_count": null,
   "metadata": {},
   "outputs": [],
   "source": [
    "# set number of products\n",
    "num_prods = 1000"
   ]
  },
  {
   "cell_type": "code",
   "execution_count": null,
   "metadata": {},
   "outputs": [],
   "source": [
    "top_prods = set() # throw these in a set for easy lookup.\n",
    "prods_file = \"product_sales.txt\"\n",
    "\n",
    "with open(prods_file) as infile :\n",
    "    next(infile)\n",
    "    for idx, row in enumerate(infile.readlines()) :\n",
    "        prod, sales_total = row.strip().split(\"\\t\") \n",
    "        top_prods.add(prod)\n",
    "        \n",
    "        if idx == num_prods - 1 :\n",
    "            break\n",
    "\n",
    "assert(len(top_prods) == num_prods)"
   ]
  },
  {
   "cell_type": "markdown",
   "metadata": {},
   "source": [
    "Build up our GBQ query."
   ]
  },
  {
   "cell_type": "code",
   "execution_count": null,
   "metadata": {},
   "outputs": [],
   "source": [
    "query_start = \"\"\"\n",
    "SELECT card_no,\n",
    "       lower(description) as description, \n",
    "       ROUND(SUM(total),2) AS sales\n",
    "FROM `umt-msba.wedge_transactions.transArchive_*`\n",
    "WHERE department != 0 and\n",
    "      department != 15 and\n",
    "      trans_status != 'M' and\n",
    "      trans_status != 'C' and\n",
    "      trans_status != 'J' and\n",
    "     (trans_status IS NULL or \n",
    "      trans_status = ' ' or \n",
    "      trans_status = 'V' or \n",
    "      trans_status = 'R') AND\n",
    "      lower(description) in (\n",
    "\"\"\"\n",
    "\n",
    "query_end = \") GROUP BY card_no, description\""
   ]
  },
  {
   "cell_type": "code",
   "execution_count": null,
   "metadata": {},
   "outputs": [],
   "source": [
    "query = query_start \n",
    "\n",
    "for prod in top_prods :\n",
    "    query = query + \"'\" + str(prod) + \"',\"\n",
    "\n",
    "\n",
    "query = query[:-1] + query_end    "
   ]
  },
  {
   "cell_type": "markdown",
   "metadata": {},
   "source": [
    "Now let's run it."
   ]
  },
  {
   "cell_type": "code",
   "execution_count": null,
   "metadata": {},
   "outputs": [],
   "source": [
    "# And we execute queries with `client.query`\n",
    "query_job = client.query(\n",
    "    query,\n",
    "    location=\"US\",\n",
    ")\n",
    "\n",
    "query_job.result()"
   ]
  },
  {
   "cell_type": "markdown",
   "metadata": {},
   "source": [
    "Now we'll copy our results over to a default dictionary with two levels of keys."
   ]
  },
  {
   "cell_type": "code",
   "execution_count": null,
   "metadata": {},
   "outputs": [],
   "source": [
    "prod_data = defaultdict(lambda: defaultdict(float))\n",
    "\n",
    "for row in query_job :\n",
    "    \n",
    "    owner, desc, amt = row\n",
    "    \n",
    "    prod_data[owner][desc] = amt\n"
   ]
  },
  {
   "cell_type": "markdown",
   "metadata": {},
   "source": [
    "Now we're going to write out our results. Notice the header trick below. This is a good way to handle files that have a ton of columns. "
   ]
  },
  {
   "cell_type": "code",
   "execution_count": null,
   "metadata": {},
   "outputs": [],
   "source": [
    "# first, get *list* of owners and products\n",
    "owners = set()\n",
    "products = set() \n",
    "\n",
    "for owner in prod_data :\n",
    "    owners.add(owner)\n",
    "    for desc in prod_data[owner] :\n",
    "        products.add(desc)\n",
    "        \n",
    "owners = sorted(list(owners))\n",
    "products = sorted(list(products))"
   ]
  },
  {
   "cell_type": "code",
   "execution_count": null,
   "metadata": {},
   "outputs": [],
   "source": [
    "headers = ['owner'] + products # the first trick.\n",
    "\n",
    "with open(\"owner_level_top_prod_sales.txt\",'w') as ofile :\n",
    "    ofile.write(\"\\t\".join(headers) + \"\\n\")\n",
    "    for owner in owners :\n",
    "        oline = [owner]\n",
    "        for product in products : \n",
    "            # this is the second trick. It's subtle.\n",
    "            # Nice feature of defaultdicts--zeros if the\n",
    "            # owner didn't buy the product, since `float` returns\n",
    "            # zero.\n",
    "            oline.append(round(prod_data[owner][product],2))\n",
    "        \n",
    "        # Getting this at the right level of indentation is important. \n",
    "        ofile.write(\"\\t\".join([str(item) for item in oline]) + \"\\n\")\n"
   ]
  },
  {
   "cell_type": "markdown",
   "metadata": {},
   "source": [
    "And that's it!"
   ]
  }
 ],
 "metadata": {
  "kernelspec": {
   "display_name": "Python 3",
   "language": "python",
   "name": "python3"
  },
  "language_info": {
   "codemirror_mode": {
    "name": "ipython",
    "version": 3
   },
   "file_extension": ".py",
   "mimetype": "text/x-python",
   "name": "python",
   "nbconvert_exporter": "python",
   "pygments_lexer": "ipython3",
   "version": "3.7.3"
  }
 },
 "nbformat": 4,
 "nbformat_minor": 2
}
